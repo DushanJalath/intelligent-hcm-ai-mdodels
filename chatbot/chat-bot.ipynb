{
 "cells": [
  {
   "cell_type": "code",
   "execution_count": null,
   "metadata": {},
   "outputs": [],
   "source": [
    "import yaml,os\n",
    "from langchain.chat_models import ChatOpenAI\n",
    "from langchain.embeddings import HuggingFaceBgeEmbeddings\n",
    "from langchain.document_loaders import DirectoryLoader, PyPDFLoader\n",
    "from langchain.text_splitter import RecursiveCharacterTextSplitter\n",
    "from langchain.memory import ConversationBufferMemory\n",
    "from langchain.chains import ConversationalRetrievalChain\n",
    "from langchain.vectorstores import Chroma"
   ]
  },
  {
   "cell_type": "code",
   "execution_count": null,
   "metadata": {},
   "outputs": [],
   "source": [
    "with open(\"cadentials.yaml\") as f:\n",
    "    cadentials=yaml.load(f,Loader=yaml.FullLoader)"
   ]
  },
  {
   "cell_type": "code",
   "execution_count": null,
   "metadata": {},
   "outputs": [],
   "source": [
    "os.environ['OPENAI_API_KEY'] = cadentials['OPENAI_API_KEY']"
   ]
  },
  {
   "cell_type": "code",
   "execution_count": null,
   "metadata": {},
   "outputs": [],
   "source": [
    "chat_llm=ChatOpenAI(\n",
    "    openai_api_key=os.environ['OPENAI_API_KEY'],\n",
    "    model='gpt-3.5-turbo',\n",
    "    temperature=0.5,\n",
    "    max_tokens=500\n",
    ")"
   ]
  },
  {
   "cell_type": "code",
   "execution_count": null,
   "metadata": {},
   "outputs": [],
   "source": [
    "llm_embeddings=HuggingFaceBgeEmbeddings(\n",
    "                    model_name = 'BAAI/bge-small-en-v1.5',\n",
    "                    model_kwargs = {'device' : 'cpu'},\n",
    "                    encode_kwargs = {'normalize_embeddings': False}\n",
    ")"
   ]
  },
  {
   "cell_type": "code",
   "execution_count": null,
   "metadata": {},
   "outputs": [],
   "source": [
    "loader=DirectoryLoader(\n",
    "                    'data/',\n",
    "                    loader_cls=PyPDFLoader,\n",
    "                    glob='./*.pdf'\n",
    "                )\n",
    "\n",
    "documents=loader.load() #load documents as pages"
   ]
  },
  {
   "cell_type": "code",
   "execution_count": null,
   "metadata": {},
   "outputs": [],
   "source": [
    "text_splitter=RecursiveCharacterTextSplitter(\n",
    "                            chunk_size=1000,\n",
    "                            chunk_overlap=200 #get last 200 tokens to the next piece of chunk\n",
    "                        )"
   ]
  },
  {
   "cell_type": "code",
   "execution_count": null,
   "metadata": {},
   "outputs": [],
   "source": [
    "texts=text_splitter.split_documents(documents)\n",
    "len(texts)"
   ]
  },
  {
   "cell_type": "code",
   "execution_count": null,
   "metadata": {},
   "outputs": [],
   "source": [
    "if not os.path.exists(\"./db/00/\"):\n",
    "    print(\"Creating the DB\")\n",
    "    vector_db = Chroma.from_documents(\n",
    "                                    documents = texts,\n",
    "                                    embedding = llm_embeddings,\n",
    "                                    persist_directory = 'db/00'\n",
    "                                    )\n",
    "else:\n",
    "    print(\"Loading the DB\")\n",
    "    vector_db = Chroma(\n",
    "                    embedding_function = llm_embeddings,\n",
    "                    persist_directory = 'db/00'\n",
    "                    )   "
   ]
  },
  {
   "cell_type": "code",
   "execution_count": null,
   "metadata": {},
   "outputs": [],
   "source": [
    "def  build_conversation(vector_db):\n",
    "    memory=ConversationBufferMemory(\n",
    "                            memory_key='chat_history',\n",
    "                            return_messages=True\n",
    "    )\n",
    "    conversational_chain=ConversationalRetrievalChain.from_llm(\n",
    "                                                        llm=chat_llm,\n",
    "                                                        memory=memory,\n",
    "                                                        retriever=vector_db.as_retriever()\n",
    "    )\n",
    "    return conversational_chain"
   ]
  },
  {
   "cell_type": "code",
   "execution_count": null,
   "metadata": {},
   "outputs": [],
   "source": [
    "conversational_chain=build_conversation(vector_db)"
   ]
  },
  {
   "cell_type": "code",
   "execution_count": null,
   "metadata": {},
   "outputs": [],
   "source": [
    "conversational_chain.run(\"Hi !\")"
   ]
  },
  {
   "cell_type": "code",
   "execution_count": 18,
   "metadata": {},
   "outputs": [
    {
     "data": {
      "text/plain": [
       "'The regular help time provided by Crosser Support is from 8.00 to 17.00 CET on weekdays, excluding local public holidays.'"
      ]
     },
     "execution_count": 18,
     "metadata": {},
     "output_type": "execute_result"
    }
   ],
   "source": [
    "conversational_chain.run(\"what is regular help time?\")"
   ]
  },
  {
   "cell_type": "code",
   "execution_count": 16,
   "metadata": {},
   "outputs": [
    {
     "data": {
      "text/plain": [
       "\"I don't have information about the University of Moratuwa.\""
      ]
     },
     "execution_count": 16,
     "metadata": {},
     "output_type": "execute_result"
    }
   ],
   "source": [
    "conversational_chain.run(\"what is university of moratuwa?\")"
   ]
  },
  {
   "cell_type": "code",
   "execution_count": null,
   "metadata": {},
   "outputs": [],
   "source": [
    "def print_memory(conversational_chain):\n",
    "    history=\"\"\n",
    "    memory_elements=conversational_chain.memory.chat_memory\n",
    "    for idx,element in enumerate(memory_elements.messages):\n",
    "        message=element.content\n",
    "        if idx%2==0:\n",
    "            history+=f\"User :{message}\\n\"\n",
    "        else:\n",
    "            history+=f\"Bot :{message}\\n\"\n",
    "    return history"
   ]
  },
  {
   "cell_type": "code",
   "execution_count": null,
   "metadata": {},
   "outputs": [],
   "source": [
    "print(print_memory(conversational_chain))"
   ]
  }
 ],
 "metadata": {
  "kernelspec": {
   "display_name": "Python 3",
   "language": "python",
   "name": "python3"
  },
  "language_info": {
   "codemirror_mode": {
    "name": "ipython",
    "version": 3
   },
   "file_extension": ".py",
   "mimetype": "text/x-python",
   "name": "python",
   "nbconvert_exporter": "python",
   "pygments_lexer": "ipython3",
   "version": "3.12.1"
  }
 },
 "nbformat": 4,
 "nbformat_minor": 2
}
